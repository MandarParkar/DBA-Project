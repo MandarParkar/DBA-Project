{
 "cells": [
  {
   "cell_type": "code",
   "execution_count": 37,
   "id": "574a5d5c",
   "metadata": {},
   "outputs": [],
   "source": [
    "import pandas as pd\n",
    "import numpy as np\n",
    "import random\n",
    "import copy"
   ]
  },
  {
   "cell_type": "code",
   "execution_count": 38,
   "id": "995eba10",
   "metadata": {},
   "outputs": [
    {
     "name": "stdout",
     "output_type": "stream",
     "text": [
      "<class 'pandas.core.frame.DataFrame'>\n",
      "RangeIndex: 98 entries, 0 to 97\n",
      "Data columns (total 10 columns):\n",
      " #   Column        Non-Null Count  Dtype  \n",
      "---  ------        --------------  -----  \n",
      " 0   team          98 non-null     object \n",
      " 1   tournament    98 non-null     object \n",
      " 2   goals         98 non-null     int64  \n",
      " 3   shots_pg      98 non-null     float64\n",
      " 4   yellow_cards  98 non-null     int64  \n",
      " 5   red_cards     98 non-null     int64  \n",
      " 6   possession%   98 non-null     float64\n",
      " 7   pass%         98 non-null     float64\n",
      " 8   aerialswon    98 non-null     float64\n",
      " 9   rating        98 non-null     float64\n",
      "dtypes: float64(5), int64(3), object(2)\n",
      "memory usage: 7.8+ KB\n",
      "None\n"
     ]
    },
    {
     "data": {
      "text/plain": "                  team      tournament  goals  shots_pg  yellow_cards  \\\n0      Manchester City  Premier League     83      15.8            46   \n1        Bayern Munich      Bundesliga     99      17.1            44   \n2  Paris Saint-Germain         Ligue 1     86      15.0            73   \n3            Barcelona          LaLiga     85      15.3            68   \n4          Real Madrid          LaLiga     67      14.4            57   \n\n   red_cards  possession%  pass%  aerialswon  rating  \n0          2         60.8   89.4        12.8    7.01  \n1          3         58.1   85.5        12.9    6.95  \n2          7         60.1   89.5         9.5    6.88  \n3          2         62.4   89.7        10.6    6.87  \n4          2         57.7   87.7        11.8    6.86  ",
      "text/html": "<div>\n<style scoped>\n    .dataframe tbody tr th:only-of-type {\n        vertical-align: middle;\n    }\n\n    .dataframe tbody tr th {\n        vertical-align: top;\n    }\n\n    .dataframe thead th {\n        text-align: right;\n    }\n</style>\n<table border=\"1\" class=\"dataframe\">\n  <thead>\n    <tr style=\"text-align: right;\">\n      <th></th>\n      <th>team</th>\n      <th>tournament</th>\n      <th>goals</th>\n      <th>shots_pg</th>\n      <th>yellow_cards</th>\n      <th>red_cards</th>\n      <th>possession%</th>\n      <th>pass%</th>\n      <th>aerialswon</th>\n      <th>rating</th>\n    </tr>\n  </thead>\n  <tbody>\n    <tr>\n      <th>0</th>\n      <td>Manchester City</td>\n      <td>Premier League</td>\n      <td>83</td>\n      <td>15.8</td>\n      <td>46</td>\n      <td>2</td>\n      <td>60.8</td>\n      <td>89.4</td>\n      <td>12.8</td>\n      <td>7.01</td>\n    </tr>\n    <tr>\n      <th>1</th>\n      <td>Bayern Munich</td>\n      <td>Bundesliga</td>\n      <td>99</td>\n      <td>17.1</td>\n      <td>44</td>\n      <td>3</td>\n      <td>58.1</td>\n      <td>85.5</td>\n      <td>12.9</td>\n      <td>6.95</td>\n    </tr>\n    <tr>\n      <th>2</th>\n      <td>Paris Saint-Germain</td>\n      <td>Ligue 1</td>\n      <td>86</td>\n      <td>15.0</td>\n      <td>73</td>\n      <td>7</td>\n      <td>60.1</td>\n      <td>89.5</td>\n      <td>9.5</td>\n      <td>6.88</td>\n    </tr>\n    <tr>\n      <th>3</th>\n      <td>Barcelona</td>\n      <td>LaLiga</td>\n      <td>85</td>\n      <td>15.3</td>\n      <td>68</td>\n      <td>2</td>\n      <td>62.4</td>\n      <td>89.7</td>\n      <td>10.6</td>\n      <td>6.87</td>\n    </tr>\n    <tr>\n      <th>4</th>\n      <td>Real Madrid</td>\n      <td>LaLiga</td>\n      <td>67</td>\n      <td>14.4</td>\n      <td>57</td>\n      <td>2</td>\n      <td>57.7</td>\n      <td>87.7</td>\n      <td>11.8</td>\n      <td>6.86</td>\n    </tr>\n  </tbody>\n</table>\n</div>"
     },
     "execution_count": 38,
     "metadata": {},
     "output_type": "execute_result"
    }
   ],
   "source": [
    "df = pd.read_csv('./data/Football teams.csv')\n",
    "df.columns = df.columns.str.lower().str.replace(' ', '_')\n",
    "print(df.info())\n",
    "\n",
    "df.head()"
   ]
  },
  {
   "cell_type": "code",
   "execution_count": 39,
   "id": "6937e7e2",
   "metadata": {},
   "outputs": [
    {
     "data": {
      "text/plain": "array(['Premier League', 'Bundesliga', 'Ligue 1', 'LaLiga', 'Serie A'],\n      dtype=object)"
     },
     "execution_count": 39,
     "metadata": {},
     "output_type": "execute_result"
    }
   ],
   "source": [
    "df.tournament.unique()"
   ]
  },
  {
   "cell_type": "code",
   "execution_count": 40,
   "id": "dd7c68a0",
   "metadata": {},
   "outputs": [
    {
     "data": {
      "text/plain": "Premier League    20\nLigue 1           20\nLaLiga            20\nSerie A           20\nBundesliga        18\nName: tournament, dtype: int64"
     },
     "execution_count": 40,
     "metadata": {},
     "output_type": "execute_result"
    }
   ],
   "source": [
    "df.tournament.value_counts()"
   ]
  },
  {
   "cell_type": "code",
   "execution_count": 41,
   "id": "f4b919a8",
   "metadata": {},
   "outputs": [
    {
     "data": {
      "text/plain": "team                     tournament    \nAC Milan                 Serie A           1\nRennes                   Ligue 1           1\nReal Valladolid          LaLiga            1\nReal Sociedad            LaLiga            1\nReal Madrid              LaLiga            1\n                                          ..\nElche                    LaLiga            1\nEintracht Frankfurt      Bundesliga        1\nEibar                    LaLiga            1\nDijon                    Ligue 1           1\nWolverhampton Wanderers  Premier League    1\nLength: 98, dtype: int64"
     },
     "execution_count": 41,
     "metadata": {},
     "output_type": "execute_result"
    }
   ],
   "source": [
    "df[['team', 'tournament']].value_counts()"
   ]
  },
  {
   "cell_type": "code",
   "execution_count": 42,
   "id": "92cad7f2",
   "metadata": {},
   "outputs": [
    {
     "data": {
      "text/plain": "                  team      tournament  goals  shots_pg  yellow_cards  \\\n0      Manchester City  Premier League     83      15.8            46   \n1        Bayern Munich      Bundesliga     99      17.1            44   \n2  Paris Saint-Germain         Ligue 1     86      15.0            73   \n3            Barcelona          LaLiga     85      15.3            68   \n4          Real Madrid          LaLiga     67      14.4            57   \n\n   red_cards  possession%  pass%  aerialswon  rating  country  \n0          2         60.8   89.4        12.8    7.01  England  \n1          3         58.1   85.5        12.9    6.95  Germany  \n2          7         60.1   89.5         9.5    6.88   France  \n3          2         62.4   89.7        10.6    6.87    Spain  \n4          2         57.7   87.7        11.8    6.86    Spain  ",
      "text/html": "<div>\n<style scoped>\n    .dataframe tbody tr th:only-of-type {\n        vertical-align: middle;\n    }\n\n    .dataframe tbody tr th {\n        vertical-align: top;\n    }\n\n    .dataframe thead th {\n        text-align: right;\n    }\n</style>\n<table border=\"1\" class=\"dataframe\">\n  <thead>\n    <tr style=\"text-align: right;\">\n      <th></th>\n      <th>team</th>\n      <th>tournament</th>\n      <th>goals</th>\n      <th>shots_pg</th>\n      <th>yellow_cards</th>\n      <th>red_cards</th>\n      <th>possession%</th>\n      <th>pass%</th>\n      <th>aerialswon</th>\n      <th>rating</th>\n      <th>country</th>\n    </tr>\n  </thead>\n  <tbody>\n    <tr>\n      <th>0</th>\n      <td>Manchester City</td>\n      <td>Premier League</td>\n      <td>83</td>\n      <td>15.8</td>\n      <td>46</td>\n      <td>2</td>\n      <td>60.8</td>\n      <td>89.4</td>\n      <td>12.8</td>\n      <td>7.01</td>\n      <td>England</td>\n    </tr>\n    <tr>\n      <th>1</th>\n      <td>Bayern Munich</td>\n      <td>Bundesliga</td>\n      <td>99</td>\n      <td>17.1</td>\n      <td>44</td>\n      <td>3</td>\n      <td>58.1</td>\n      <td>85.5</td>\n      <td>12.9</td>\n      <td>6.95</td>\n      <td>Germany</td>\n    </tr>\n    <tr>\n      <th>2</th>\n      <td>Paris Saint-Germain</td>\n      <td>Ligue 1</td>\n      <td>86</td>\n      <td>15.0</td>\n      <td>73</td>\n      <td>7</td>\n      <td>60.1</td>\n      <td>89.5</td>\n      <td>9.5</td>\n      <td>6.88</td>\n      <td>France</td>\n    </tr>\n    <tr>\n      <th>3</th>\n      <td>Barcelona</td>\n      <td>LaLiga</td>\n      <td>85</td>\n      <td>15.3</td>\n      <td>68</td>\n      <td>2</td>\n      <td>62.4</td>\n      <td>89.7</td>\n      <td>10.6</td>\n      <td>6.87</td>\n      <td>Spain</td>\n    </tr>\n    <tr>\n      <th>4</th>\n      <td>Real Madrid</td>\n      <td>LaLiga</td>\n      <td>67</td>\n      <td>14.4</td>\n      <td>57</td>\n      <td>2</td>\n      <td>57.7</td>\n      <td>87.7</td>\n      <td>11.8</td>\n      <td>6.86</td>\n      <td>Spain</td>\n    </tr>\n  </tbody>\n</table>\n</div>"
     },
     "execution_count": 42,
     "metadata": {},
     "output_type": "execute_result"
    }
   ],
   "source": [
    "leagues_dict = {'Premier League': 'England', 'Bundesliga': 'Germany', 'Ligue 1': 'France', 'Serie A': 'Italy', \n",
    "                'LaLiga': 'Spain'}\n",
    "df['country'] = df['tournament'].map(leagues_dict)\n",
    "df.head()"
   ]
  },
  {
   "cell_type": "code",
   "execution_count": 43,
   "id": "12e33fb1",
   "metadata": {},
   "outputs": [
    {
     "data": {
      "text/plain": "                  team      tournament  country\n0      Manchester City  Premier League  England\n1        Bayern Munich      Bundesliga  Germany\n2  Paris Saint-Germain         Ligue 1   France\n3            Barcelona          LaLiga    Spain\n4          Real Madrid          LaLiga    Spain",
      "text/html": "<div>\n<style scoped>\n    .dataframe tbody tr th:only-of-type {\n        vertical-align: middle;\n    }\n\n    .dataframe tbody tr th {\n        vertical-align: top;\n    }\n\n    .dataframe thead th {\n        text-align: right;\n    }\n</style>\n<table border=\"1\" class=\"dataframe\">\n  <thead>\n    <tr style=\"text-align: right;\">\n      <th></th>\n      <th>team</th>\n      <th>tournament</th>\n      <th>country</th>\n    </tr>\n  </thead>\n  <tbody>\n    <tr>\n      <th>0</th>\n      <td>Manchester City</td>\n      <td>Premier League</td>\n      <td>England</td>\n    </tr>\n    <tr>\n      <th>1</th>\n      <td>Bayern Munich</td>\n      <td>Bundesliga</td>\n      <td>Germany</td>\n    </tr>\n    <tr>\n      <th>2</th>\n      <td>Paris Saint-Germain</td>\n      <td>Ligue 1</td>\n      <td>France</td>\n    </tr>\n    <tr>\n      <th>3</th>\n      <td>Barcelona</td>\n      <td>LaLiga</td>\n      <td>Spain</td>\n    </tr>\n    <tr>\n      <th>4</th>\n      <td>Real Madrid</td>\n      <td>LaLiga</td>\n      <td>Spain</td>\n    </tr>\n  </tbody>\n</table>\n</div>"
     },
     "execution_count": 43,
     "metadata": {},
     "output_type": "execute_result"
    }
   ],
   "source": [
    "df = df[['team', 'tournament', 'country']]\n",
    "df.head()"
   ]
  },
  {
   "cell_type": "code",
   "execution_count": 44,
   "id": "37863f50",
   "metadata": {},
   "outputs": [
    {
     "data": {
      "text/plain": "            home_team          away_team      tournament  country\n1     Manchester City  Manchester United  Premier League  England\n2     Manchester City        Aston Villa  Premier League  England\n3     Manchester City            Chelsea  Premier League  England\n4     Manchester City          Liverpool  Premier League  England\n5     Manchester City          Tottenham  Premier League  England\n...               ...                ...             ...      ...\n1918        Benevento              Genoa         Serie A    Italy\n1919        Benevento         Fiorentina         Serie A    Italy\n1920        Benevento             Spezia         Serie A    Italy\n1921        Benevento  Parma Calcio 1913         Serie A    Italy\n1922        Benevento            Crotone         Serie A    Italy\n\n[1826 rows x 4 columns]",
      "text/html": "<div>\n<style scoped>\n    .dataframe tbody tr th:only-of-type {\n        vertical-align: middle;\n    }\n\n    .dataframe tbody tr th {\n        vertical-align: top;\n    }\n\n    .dataframe thead th {\n        text-align: right;\n    }\n</style>\n<table border=\"1\" class=\"dataframe\">\n  <thead>\n    <tr style=\"text-align: right;\">\n      <th></th>\n      <th>home_team</th>\n      <th>away_team</th>\n      <th>tournament</th>\n      <th>country</th>\n    </tr>\n  </thead>\n  <tbody>\n    <tr>\n      <th>1</th>\n      <td>Manchester City</td>\n      <td>Manchester United</td>\n      <td>Premier League</td>\n      <td>England</td>\n    </tr>\n    <tr>\n      <th>2</th>\n      <td>Manchester City</td>\n      <td>Aston Villa</td>\n      <td>Premier League</td>\n      <td>England</td>\n    </tr>\n    <tr>\n      <th>3</th>\n      <td>Manchester City</td>\n      <td>Chelsea</td>\n      <td>Premier League</td>\n      <td>England</td>\n    </tr>\n    <tr>\n      <th>4</th>\n      <td>Manchester City</td>\n      <td>Liverpool</td>\n      <td>Premier League</td>\n      <td>England</td>\n    </tr>\n    <tr>\n      <th>5</th>\n      <td>Manchester City</td>\n      <td>Tottenham</td>\n      <td>Premier League</td>\n      <td>England</td>\n    </tr>\n    <tr>\n      <th>...</th>\n      <td>...</td>\n      <td>...</td>\n      <td>...</td>\n      <td>...</td>\n    </tr>\n    <tr>\n      <th>1918</th>\n      <td>Benevento</td>\n      <td>Genoa</td>\n      <td>Serie A</td>\n      <td>Italy</td>\n    </tr>\n    <tr>\n      <th>1919</th>\n      <td>Benevento</td>\n      <td>Fiorentina</td>\n      <td>Serie A</td>\n      <td>Italy</td>\n    </tr>\n    <tr>\n      <th>1920</th>\n      <td>Benevento</td>\n      <td>Spezia</td>\n      <td>Serie A</td>\n      <td>Italy</td>\n    </tr>\n    <tr>\n      <th>1921</th>\n      <td>Benevento</td>\n      <td>Parma Calcio 1913</td>\n      <td>Serie A</td>\n      <td>Italy</td>\n    </tr>\n    <tr>\n      <th>1922</th>\n      <td>Benevento</td>\n      <td>Crotone</td>\n      <td>Serie A</td>\n      <td>Italy</td>\n    </tr>\n  </tbody>\n</table>\n<p>1826 rows × 4 columns</p>\n</div>"
     },
     "execution_count": 44,
     "metadata": {},
     "output_type": "execute_result"
    }
   ],
   "source": [
    "df_cross = df.merge(df, on='country')\n",
    "df_cross = df_cross.loc[df_cross.team_x!=df_cross.team_y, :]\n",
    "df_cross.drop('tournament_y', inplace=True, axis=1)\n",
    "df_cross.rename(columns={'team_x': 'home_team', 'team_y': 'away_team', 'tournament_x': 'tournament'}, inplace=True)\n",
    "df_cross = df_cross[['home_team', 'away_team', 'tournament', 'country']]\n",
    "df_cross"
   ]
  },
  {
   "cell_type": "code",
   "execution_count": 45,
   "id": "7c18fa89",
   "metadata": {},
   "outputs": [
    {
     "data": {
      "text/plain": "                home_team          away_team  tournament  country\n0       Arminia Bielefeld      Bayern Munich  Bundesliga  Germany\n1                Mainz 05      Hertha Berlin  Bundesliga  Germany\n2           Bayern Munich           Freiburg  Bundesliga  Germany\n3     Borussia M.Gladbach           Mainz 05  Bundesliga  Germany\n4           VfB Stuttgart  Borussia Dortmund  Bundesliga  Germany\n...                   ...                ...         ...      ...\n1821               Torino            Udinese     Serie A    Italy\n1822             Cagliari            Bologna     Serie A    Italy\n1823              Udinese             Napoli     Serie A    Italy\n1824           Fiorentina             Napoli     Serie A    Italy\n1825              Crotone         Fiorentina     Serie A    Italy\n\n[1826 rows x 4 columns]",
      "text/html": "<div>\n<style scoped>\n    .dataframe tbody tr th:only-of-type {\n        vertical-align: middle;\n    }\n\n    .dataframe tbody tr th {\n        vertical-align: top;\n    }\n\n    .dataframe thead th {\n        text-align: right;\n    }\n</style>\n<table border=\"1\" class=\"dataframe\">\n  <thead>\n    <tr style=\"text-align: right;\">\n      <th></th>\n      <th>home_team</th>\n      <th>away_team</th>\n      <th>tournament</th>\n      <th>country</th>\n    </tr>\n  </thead>\n  <tbody>\n    <tr>\n      <th>0</th>\n      <td>Arminia Bielefeld</td>\n      <td>Bayern Munich</td>\n      <td>Bundesliga</td>\n      <td>Germany</td>\n    </tr>\n    <tr>\n      <th>1</th>\n      <td>Mainz 05</td>\n      <td>Hertha Berlin</td>\n      <td>Bundesliga</td>\n      <td>Germany</td>\n    </tr>\n    <tr>\n      <th>2</th>\n      <td>Bayern Munich</td>\n      <td>Freiburg</td>\n      <td>Bundesliga</td>\n      <td>Germany</td>\n    </tr>\n    <tr>\n      <th>3</th>\n      <td>Borussia M.Gladbach</td>\n      <td>Mainz 05</td>\n      <td>Bundesliga</td>\n      <td>Germany</td>\n    </tr>\n    <tr>\n      <th>4</th>\n      <td>VfB Stuttgart</td>\n      <td>Borussia Dortmund</td>\n      <td>Bundesliga</td>\n      <td>Germany</td>\n    </tr>\n    <tr>\n      <th>...</th>\n      <td>...</td>\n      <td>...</td>\n      <td>...</td>\n      <td>...</td>\n    </tr>\n    <tr>\n      <th>1821</th>\n      <td>Torino</td>\n      <td>Udinese</td>\n      <td>Serie A</td>\n      <td>Italy</td>\n    </tr>\n    <tr>\n      <th>1822</th>\n      <td>Cagliari</td>\n      <td>Bologna</td>\n      <td>Serie A</td>\n      <td>Italy</td>\n    </tr>\n    <tr>\n      <th>1823</th>\n      <td>Udinese</td>\n      <td>Napoli</td>\n      <td>Serie A</td>\n      <td>Italy</td>\n    </tr>\n    <tr>\n      <th>1824</th>\n      <td>Fiorentina</td>\n      <td>Napoli</td>\n      <td>Serie A</td>\n      <td>Italy</td>\n    </tr>\n    <tr>\n      <th>1825</th>\n      <td>Crotone</td>\n      <td>Fiorentina</td>\n      <td>Serie A</td>\n      <td>Italy</td>\n    </tr>\n  </tbody>\n</table>\n<p>1826 rows × 4 columns</p>\n</div>"
     },
     "execution_count": 45,
     "metadata": {},
     "output_type": "execute_result"
    }
   ],
   "source": [
    "df_cross = df_cross.sample(frac=1).sort_values(by='tournament').reset_index(drop=True)\n",
    "df_cross"
   ]
  },
  {
   "cell_type": "code",
   "execution_count": 46,
   "id": "3e783437",
   "metadata": {},
   "outputs": [
    {
     "data": {
      "text/plain": "LaLiga            380\nLigue 1           380\nPremier League    380\nSerie A           380\nBundesliga        306\nName: tournament, dtype: int64"
     },
     "execution_count": 46,
     "metadata": {},
     "output_type": "execute_result"
    }
   ],
   "source": [
    "df_cross['tournament'].value_counts()"
   ]
  },
  {
   "cell_type": "code",
   "execution_count": 47,
   "id": "bf6ebd10",
   "metadata": {},
   "outputs": [
    {
     "data": {
      "text/plain": "   minute\n0       0\n1       1\n2       2\n3       3\n4       4",
      "text/html": "<div>\n<style scoped>\n    .dataframe tbody tr th:only-of-type {\n        vertical-align: middle;\n    }\n\n    .dataframe tbody tr th {\n        vertical-align: top;\n    }\n\n    .dataframe thead th {\n        text-align: right;\n    }\n</style>\n<table border=\"1\" class=\"dataframe\">\n  <thead>\n    <tr style=\"text-align: right;\">\n      <th></th>\n      <th>minute</th>\n    </tr>\n  </thead>\n  <tbody>\n    <tr>\n      <th>0</th>\n      <td>0</td>\n    </tr>\n    <tr>\n      <th>1</th>\n      <td>1</td>\n    </tr>\n    <tr>\n      <th>2</th>\n      <td>2</td>\n    </tr>\n    <tr>\n      <th>3</th>\n      <td>3</td>\n    </tr>\n    <tr>\n      <th>4</th>\n      <td>4</td>\n    </tr>\n  </tbody>\n</table>\n</div>"
     },
     "execution_count": 47,
     "metadata": {},
     "output_type": "execute_result"
    }
   ],
   "source": [
    "minutes_df = pd.DataFrame(np.arange(0, 91, 1), columns=['minute'])\n",
    "minutes_df.head()"
   ]
  },
  {
   "cell_type": "code",
   "execution_count": 48,
   "id": "5d16ca60",
   "metadata": {},
   "outputs": [
    {
     "data": {
      "text/plain": "             home_team          away_team  tournament  country\n0    Arminia Bielefeld      Bayern Munich  Bundesliga  Germany\n1             Mainz 05      Hertha Berlin  Bundesliga  Germany\n2        Bayern Munich           Freiburg  Bundesliga  Germany\n3  Borussia M.Gladbach           Mainz 05  Bundesliga  Germany\n4        VfB Stuttgart  Borussia Dortmund  Bundesliga  Germany",
      "text/html": "<div>\n<style scoped>\n    .dataframe tbody tr th:only-of-type {\n        vertical-align: middle;\n    }\n\n    .dataframe tbody tr th {\n        vertical-align: top;\n    }\n\n    .dataframe thead th {\n        text-align: right;\n    }\n</style>\n<table border=\"1\" class=\"dataframe\">\n  <thead>\n    <tr style=\"text-align: right;\">\n      <th></th>\n      <th>home_team</th>\n      <th>away_team</th>\n      <th>tournament</th>\n      <th>country</th>\n    </tr>\n  </thead>\n  <tbody>\n    <tr>\n      <th>0</th>\n      <td>Arminia Bielefeld</td>\n      <td>Bayern Munich</td>\n      <td>Bundesliga</td>\n      <td>Germany</td>\n    </tr>\n    <tr>\n      <th>1</th>\n      <td>Mainz 05</td>\n      <td>Hertha Berlin</td>\n      <td>Bundesliga</td>\n      <td>Germany</td>\n    </tr>\n    <tr>\n      <th>2</th>\n      <td>Bayern Munich</td>\n      <td>Freiburg</td>\n      <td>Bundesliga</td>\n      <td>Germany</td>\n    </tr>\n    <tr>\n      <th>3</th>\n      <td>Borussia M.Gladbach</td>\n      <td>Mainz 05</td>\n      <td>Bundesliga</td>\n      <td>Germany</td>\n    </tr>\n    <tr>\n      <th>4</th>\n      <td>VfB Stuttgart</td>\n      <td>Borussia Dortmund</td>\n      <td>Bundesliga</td>\n      <td>Germany</td>\n    </tr>\n  </tbody>\n</table>\n</div>"
     },
     "execution_count": 48,
     "metadata": {},
     "output_type": "execute_result"
    }
   ],
   "source": [
    "df_cross.head()"
   ]
  },
  {
   "cell_type": "code",
   "execution_count": 49,
   "id": "dba53a6f",
   "metadata": {},
   "outputs": [
    {
     "data": {
      "text/plain": "     index  month  day\n0        0      1    1\n1        1      1    2\n2        2      1    3\n3        3      1    4\n4        4      1    5\n..     ...    ...  ...\n360    367     12   27\n361    368     12   28\n362    369     12   29\n363    370     12   30\n364    371     12   31\n\n[365 rows x 3 columns]",
      "text/html": "<div>\n<style scoped>\n    .dataframe tbody tr th:only-of-type {\n        vertical-align: middle;\n    }\n\n    .dataframe tbody tr th {\n        vertical-align: top;\n    }\n\n    .dataframe thead th {\n        text-align: right;\n    }\n</style>\n<table border=\"1\" class=\"dataframe\">\n  <thead>\n    <tr style=\"text-align: right;\">\n      <th></th>\n      <th>index</th>\n      <th>month</th>\n      <th>day</th>\n    </tr>\n  </thead>\n  <tbody>\n    <tr>\n      <th>0</th>\n      <td>0</td>\n      <td>1</td>\n      <td>1</td>\n    </tr>\n    <tr>\n      <th>1</th>\n      <td>1</td>\n      <td>1</td>\n      <td>2</td>\n    </tr>\n    <tr>\n      <th>2</th>\n      <td>2</td>\n      <td>1</td>\n      <td>3</td>\n    </tr>\n    <tr>\n      <th>3</th>\n      <td>3</td>\n      <td>1</td>\n      <td>4</td>\n    </tr>\n    <tr>\n      <th>4</th>\n      <td>4</td>\n      <td>1</td>\n      <td>5</td>\n    </tr>\n    <tr>\n      <th>...</th>\n      <td>...</td>\n      <td>...</td>\n      <td>...</td>\n    </tr>\n    <tr>\n      <th>360</th>\n      <td>367</td>\n      <td>12</td>\n      <td>27</td>\n    </tr>\n    <tr>\n      <th>361</th>\n      <td>368</td>\n      <td>12</td>\n      <td>28</td>\n    </tr>\n    <tr>\n      <th>362</th>\n      <td>369</td>\n      <td>12</td>\n      <td>29</td>\n    </tr>\n    <tr>\n      <th>363</th>\n      <td>370</td>\n      <td>12</td>\n      <td>30</td>\n    </tr>\n    <tr>\n      <th>364</th>\n      <td>371</td>\n      <td>12</td>\n      <td>31</td>\n    </tr>\n  </tbody>\n</table>\n<p>365 rows × 3 columns</p>\n</div>"
     },
     "execution_count": 49,
     "metadata": {},
     "output_type": "execute_result"
    }
   ],
   "source": [
    "month = pd.DataFrame(np.arange(1, 13, 1), columns=['month'])\n",
    "day = pd.DataFrame(np.arange(1, 32, 1), columns=['day'])\n",
    "date_df = month.merge(day, how='cross')\n",
    "date_df = date_df.loc[~(((date_df.month==2) & (date_df.day>28)) | \n",
    "                        ((date_df.month.isin([4, 6, 9, 11])) & (date_df.day>30))), :].reset_index()\n",
    "date_df"
   ]
  },
  {
   "cell_type": "code",
   "execution_count": 50,
   "id": "305d4561",
   "metadata": {},
   "outputs": [
    {
     "name": "stdout",
     "output_type": "stream",
     "text": [
      "done\n"
     ]
    }
   ],
   "source": [
    "taken_dict = {}\n",
    "df_list = []\n",
    "for year in range(2000, 2024, 1):\n",
    "    df_out = copy.deepcopy(df_cross)\n",
    "    df_out['year'] = year\n",
    "    taken_dict = {}\n",
    "    for idx, row in df_cross.iterrows():\n",
    "        if row['home_team'] not in taken_dict:\n",
    "            taken_dict[row['home_team']] = set()\n",
    "        if row['away_team'] not in taken_dict:\n",
    "            taken_dict[row['away_team']] = set()\n",
    "        \n",
    "        date = date_df.sample(1).copy()\n",
    "        \n",
    "        while (int(date['month']), int(date['day'])) in taken_dict[row['home_team']] or (int(date['month']), int(date['day'])) in taken_dict[row['away_team']]:\n",
    "            date = date_df.sample(1).copy()\n",
    "        df_out.loc[idx, 'month'] = int(date['month'])\n",
    "        df_out.loc[idx, 'day'] = int(date['day'])\n",
    "\n",
    "        \n",
    "        taken_dict[row['home_team']].add((int(date['month']), int(date['day'])))\n",
    "        taken_dict[row['away_team']].add((int(date['month']), int(date['day'])))\n",
    "    df_list.append(df_out.merge(minutes_df, how='cross'))\n",
    "\n",
    "df_out = pd.concat(df_list)\n",
    "print('done')"
   ]
  },
  {
   "cell_type": "code",
   "execution_count": 51,
   "id": "16a1f768",
   "metadata": {},
   "outputs": [
    {
     "name": "stdout",
     "output_type": "stream",
     "text": [
      "<class 'pandas.core.frame.DataFrame'>\n",
      "Int64Index: 3987984 entries, 0 to 166165\n",
      "Data columns (total 8 columns):\n",
      " #   Column      Dtype  \n",
      "---  ------      -----  \n",
      " 0   home_team   object \n",
      " 1   away_team   object \n",
      " 2   tournament  object \n",
      " 3   country     object \n",
      " 4   year        int64  \n",
      " 5   month       float64\n",
      " 6   day         float64\n",
      " 7   minute      int32  \n",
      "dtypes: float64(2), int32(1), int64(1), object(4)\n",
      "memory usage: 258.6+ MB\n"
     ]
    }
   ],
   "source": [
    "df_out.info()"
   ]
  },
  {
   "cell_type": "code",
   "execution_count": 52,
   "id": "df27a2bd",
   "metadata": {},
   "outputs": [],
   "source": [
    "df_out['home_score'] = np.random.choice([0, 1], size=len(df_out), p=[0.99, 0.01])\n",
    "df_out['away_score'] = np.random.choice([0, 1], size=len(df_out), p=[0.99, 0.01])\n",
    "df_out.loc[df_out.minute==0, 'home_score'] = 0\n",
    "df_out.loc[df_out.minute==0, 'away_score'] = 0"
   ]
  },
  {
   "cell_type": "code",
   "execution_count": 53,
   "id": "1b57ac99",
   "metadata": {},
   "outputs": [],
   "source": [
    "df_out['home_score'] = df_out.groupby(list(df_out.columns.drop(['minute', 'home_score', \n",
    "                                                                 'away_score'])))['home_score'].cumsum()\n",
    "df_out['away_score'] = df_out.groupby(list(df_out.columns.drop(['minute', 'home_score', \n",
    "                                                                 'away_score'])))['away_score'].cumsum()"
   ]
  },
  {
   "cell_type": "code",
   "execution_count": 54,
   "id": "c01b88f3",
   "metadata": {},
   "outputs": [
    {
     "data": {
      "text/plain": "       home_team   away_team tournament country  year  month   day  minute  \\\n166076   Crotone  Fiorentina    Serie A   Italy  2023    1.0  14.0       1   \n166077   Crotone  Fiorentina    Serie A   Italy  2023    1.0  14.0       2   \n166078   Crotone  Fiorentina    Serie A   Italy  2023    1.0  14.0       3   \n166079   Crotone  Fiorentina    Serie A   Italy  2023    1.0  14.0       4   \n166080   Crotone  Fiorentina    Serie A   Italy  2023    1.0  14.0       5   \n...          ...         ...        ...     ...   ...    ...   ...     ...   \n166161   Crotone  Fiorentina    Serie A   Italy  2023    1.0  14.0      86   \n166162   Crotone  Fiorentina    Serie A   Italy  2023    1.0  14.0      87   \n166163   Crotone  Fiorentina    Serie A   Italy  2023    1.0  14.0      88   \n166164   Crotone  Fiorentina    Serie A   Italy  2023    1.0  14.0      89   \n166165   Crotone  Fiorentina    Serie A   Italy  2023    1.0  14.0      90   \n\n        home_score  away_score  \n166076           0           0  \n166077           0           0  \n166078           0           0  \n166079           0           0  \n166080           0           0  \n...            ...         ...  \n166161           0           0  \n166162           0           0  \n166163           0           0  \n166164           0           0  \n166165           0           0  \n\n[90 rows x 10 columns]",
      "text/html": "<div>\n<style scoped>\n    .dataframe tbody tr th:only-of-type {\n        vertical-align: middle;\n    }\n\n    .dataframe tbody tr th {\n        vertical-align: top;\n    }\n\n    .dataframe thead th {\n        text-align: right;\n    }\n</style>\n<table border=\"1\" class=\"dataframe\">\n  <thead>\n    <tr style=\"text-align: right;\">\n      <th></th>\n      <th>home_team</th>\n      <th>away_team</th>\n      <th>tournament</th>\n      <th>country</th>\n      <th>year</th>\n      <th>month</th>\n      <th>day</th>\n      <th>minute</th>\n      <th>home_score</th>\n      <th>away_score</th>\n    </tr>\n  </thead>\n  <tbody>\n    <tr>\n      <th>166076</th>\n      <td>Crotone</td>\n      <td>Fiorentina</td>\n      <td>Serie A</td>\n      <td>Italy</td>\n      <td>2023</td>\n      <td>1.0</td>\n      <td>14.0</td>\n      <td>1</td>\n      <td>0</td>\n      <td>0</td>\n    </tr>\n    <tr>\n      <th>166077</th>\n      <td>Crotone</td>\n      <td>Fiorentina</td>\n      <td>Serie A</td>\n      <td>Italy</td>\n      <td>2023</td>\n      <td>1.0</td>\n      <td>14.0</td>\n      <td>2</td>\n      <td>0</td>\n      <td>0</td>\n    </tr>\n    <tr>\n      <th>166078</th>\n      <td>Crotone</td>\n      <td>Fiorentina</td>\n      <td>Serie A</td>\n      <td>Italy</td>\n      <td>2023</td>\n      <td>1.0</td>\n      <td>14.0</td>\n      <td>3</td>\n      <td>0</td>\n      <td>0</td>\n    </tr>\n    <tr>\n      <th>166079</th>\n      <td>Crotone</td>\n      <td>Fiorentina</td>\n      <td>Serie A</td>\n      <td>Italy</td>\n      <td>2023</td>\n      <td>1.0</td>\n      <td>14.0</td>\n      <td>4</td>\n      <td>0</td>\n      <td>0</td>\n    </tr>\n    <tr>\n      <th>166080</th>\n      <td>Crotone</td>\n      <td>Fiorentina</td>\n      <td>Serie A</td>\n      <td>Italy</td>\n      <td>2023</td>\n      <td>1.0</td>\n      <td>14.0</td>\n      <td>5</td>\n      <td>0</td>\n      <td>0</td>\n    </tr>\n    <tr>\n      <th>...</th>\n      <td>...</td>\n      <td>...</td>\n      <td>...</td>\n      <td>...</td>\n      <td>...</td>\n      <td>...</td>\n      <td>...</td>\n      <td>...</td>\n      <td>...</td>\n      <td>...</td>\n    </tr>\n    <tr>\n      <th>166161</th>\n      <td>Crotone</td>\n      <td>Fiorentina</td>\n      <td>Serie A</td>\n      <td>Italy</td>\n      <td>2023</td>\n      <td>1.0</td>\n      <td>14.0</td>\n      <td>86</td>\n      <td>0</td>\n      <td>0</td>\n    </tr>\n    <tr>\n      <th>166162</th>\n      <td>Crotone</td>\n      <td>Fiorentina</td>\n      <td>Serie A</td>\n      <td>Italy</td>\n      <td>2023</td>\n      <td>1.0</td>\n      <td>14.0</td>\n      <td>87</td>\n      <td>0</td>\n      <td>0</td>\n    </tr>\n    <tr>\n      <th>166163</th>\n      <td>Crotone</td>\n      <td>Fiorentina</td>\n      <td>Serie A</td>\n      <td>Italy</td>\n      <td>2023</td>\n      <td>1.0</td>\n      <td>14.0</td>\n      <td>88</td>\n      <td>0</td>\n      <td>0</td>\n    </tr>\n    <tr>\n      <th>166164</th>\n      <td>Crotone</td>\n      <td>Fiorentina</td>\n      <td>Serie A</td>\n      <td>Italy</td>\n      <td>2023</td>\n      <td>1.0</td>\n      <td>14.0</td>\n      <td>89</td>\n      <td>0</td>\n      <td>0</td>\n    </tr>\n    <tr>\n      <th>166165</th>\n      <td>Crotone</td>\n      <td>Fiorentina</td>\n      <td>Serie A</td>\n      <td>Italy</td>\n      <td>2023</td>\n      <td>1.0</td>\n      <td>14.0</td>\n      <td>90</td>\n      <td>0</td>\n      <td>0</td>\n    </tr>\n  </tbody>\n</table>\n<p>90 rows × 10 columns</p>\n</div>"
     },
     "execution_count": 54,
     "metadata": {},
     "output_type": "execute_result"
    }
   ],
   "source": [
    "df_out.tail(90)"
   ]
  },
  {
   "cell_type": "code",
   "execution_count": 55,
   "id": "a480939d",
   "metadata": {},
   "outputs": [],
   "source": [
    "df_out.to_csv('./data/scores_output.csv', index=False)"
   ]
  },
  {
   "cell_type": "code",
   "execution_count": 56,
   "id": "e94b4148",
   "metadata": {},
   "outputs": [
    {
     "data": {
      "text/plain": "           home_team      away_team  tournament  country  year  month   day  \\\n0  Arminia Bielefeld  Bayern Munich  Bundesliga  Germany  2000    4.0  22.0   \n1  Arminia Bielefeld  Bayern Munich  Bundesliga  Germany  2000    4.0  22.0   \n2  Arminia Bielefeld  Bayern Munich  Bundesliga  Germany  2000    4.0  22.0   \n3  Arminia Bielefeld  Bayern Munich  Bundesliga  Germany  2000    4.0  22.0   \n4  Arminia Bielefeld  Bayern Munich  Bundesliga  Germany  2000    4.0  22.0   \n\n   minute  home_score  away_score  \n0       0           0           0  \n1       1           0           0  \n2       2           0           0  \n3       3           0           0  \n4       4           0           0  ",
      "text/html": "<div>\n<style scoped>\n    .dataframe tbody tr th:only-of-type {\n        vertical-align: middle;\n    }\n\n    .dataframe tbody tr th {\n        vertical-align: top;\n    }\n\n    .dataframe thead th {\n        text-align: right;\n    }\n</style>\n<table border=\"1\" class=\"dataframe\">\n  <thead>\n    <tr style=\"text-align: right;\">\n      <th></th>\n      <th>home_team</th>\n      <th>away_team</th>\n      <th>tournament</th>\n      <th>country</th>\n      <th>year</th>\n      <th>month</th>\n      <th>day</th>\n      <th>minute</th>\n      <th>home_score</th>\n      <th>away_score</th>\n    </tr>\n  </thead>\n  <tbody>\n    <tr>\n      <th>0</th>\n      <td>Arminia Bielefeld</td>\n      <td>Bayern Munich</td>\n      <td>Bundesliga</td>\n      <td>Germany</td>\n      <td>2000</td>\n      <td>4.0</td>\n      <td>22.0</td>\n      <td>0</td>\n      <td>0</td>\n      <td>0</td>\n    </tr>\n    <tr>\n      <th>1</th>\n      <td>Arminia Bielefeld</td>\n      <td>Bayern Munich</td>\n      <td>Bundesliga</td>\n      <td>Germany</td>\n      <td>2000</td>\n      <td>4.0</td>\n      <td>22.0</td>\n      <td>1</td>\n      <td>0</td>\n      <td>0</td>\n    </tr>\n    <tr>\n      <th>2</th>\n      <td>Arminia Bielefeld</td>\n      <td>Bayern Munich</td>\n      <td>Bundesliga</td>\n      <td>Germany</td>\n      <td>2000</td>\n      <td>4.0</td>\n      <td>22.0</td>\n      <td>2</td>\n      <td>0</td>\n      <td>0</td>\n    </tr>\n    <tr>\n      <th>3</th>\n      <td>Arminia Bielefeld</td>\n      <td>Bayern Munich</td>\n      <td>Bundesliga</td>\n      <td>Germany</td>\n      <td>2000</td>\n      <td>4.0</td>\n      <td>22.0</td>\n      <td>3</td>\n      <td>0</td>\n      <td>0</td>\n    </tr>\n    <tr>\n      <th>4</th>\n      <td>Arminia Bielefeld</td>\n      <td>Bayern Munich</td>\n      <td>Bundesliga</td>\n      <td>Germany</td>\n      <td>2000</td>\n      <td>4.0</td>\n      <td>22.0</td>\n      <td>4</td>\n      <td>0</td>\n      <td>0</td>\n    </tr>\n  </tbody>\n</table>\n</div>"
     },
     "execution_count": 56,
     "metadata": {},
     "output_type": "execute_result"
    }
   ],
   "source": [
    "df = pd.read_csv('./data/scores_output.csv')\n",
    "df.head()"
   ]
  },
  {
   "cell_type": "code",
   "execution_count": 57,
   "id": "68530bd5",
   "metadata": {},
   "outputs": [
    {
     "name": "stdout",
     "output_type": "stream",
     "text": [
      "<class 'pandas.core.frame.DataFrame'>\n",
      "RangeIndex: 3987984 entries, 0 to 3987983\n",
      "Data columns (total 10 columns):\n",
      " #   Column      Dtype  \n",
      "---  ------      -----  \n",
      " 0   home_team   object \n",
      " 1   away_team   object \n",
      " 2   tournament  object \n",
      " 3   country     object \n",
      " 4   year        int64  \n",
      " 5   month       float64\n",
      " 6   day         float64\n",
      " 7   minute      int64  \n",
      " 8   home_score  int64  \n",
      " 9   away_score  int64  \n",
      "dtypes: float64(2), int64(4), object(4)\n",
      "memory usage: 304.3+ MB\n"
     ]
    }
   ],
   "source": [
    "df.info()"
   ]
  }
 ],
 "metadata": {
  "kernelspec": {
   "display_name": "Python 3 (ipykernel)",
   "language": "python",
   "name": "python3"
  },
  "language_info": {
   "codemirror_mode": {
    "name": "ipython",
    "version": 3
   },
   "file_extension": ".py",
   "mimetype": "text/x-python",
   "name": "python",
   "nbconvert_exporter": "python",
   "pygments_lexer": "ipython3",
   "version": "3.9.13"
  }
 },
 "nbformat": 4,
 "nbformat_minor": 5
}
